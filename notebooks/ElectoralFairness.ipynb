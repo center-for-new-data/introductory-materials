{
 "cells": [
  {
   "cell_type": "markdown",
   "metadata": {},
   "source": [
    "<center><img src=\"https://static1.squarespace.com/static/5f7e1ba80e679669cd82f3a6/t/5f8bb1dbcfa41b2e087b2bac/1607995038419/?format=1500w\" width=\"200\" height=\"300\"></center>\n",
    "\n",
    "# Hello!\n",
    "\n",
    "Welcome to the Center for New Data's introductory materials repository. If you are unfamiliar with the Center for New Data, check out our <a href=\"https://www.newdata.org/\">website</a>. \n",
    "\n",
    "We are an all-volunteer, non-profit organization originally convened at the start of the U.S. COVID-19 pandemic as the COVID Alliance. Our volunteers span technologists, policy researchers, and entrepreneurs. In the past year, the Center for New Data stood up an end-to-end data, insights, and research platform -- designed to ingest complex, sensitive data; protecting it with state-of-the-art privacy controls. Volunteers on the platform produce data products and analyses useful to governments, non-partisan policy groups, and academic researchers.\n",
    "\n",
    "We acquire novel data sources; turn raw data into usable data by cultivating collaborative processing and featurization; and finally, offer new data to researchers, policymakers,  media, and the public at large."
   ]
  },
  {
   "cell_type": "markdown",
   "metadata": {},
   "source": [
    "# The 2020 Election"
   ]
  },
  {
   "cell_type": "markdown",
   "metadata": {},
   "source": [
    "Many Americans consider the 2020 election a turning point for the United States. Joe Biden (D) won over 7 million more votes than incumbent Donald Trump (R), but the election could have easily gone very differently. The <a href=\"https://www.cfr.org/blog/2020-election-numbers\"> Council on Foreign Relations </a> noted\n",
    "> If Trump picked up the right mix of 42,921 votes in Arizona (10,457), Georgia (11,779), and Wisconsin (20,682), the Electoral College would have been tied at 269 all...If Trump had also picked up the one electoral vote in Nebraska’s Second Congressional District, which he lost to Biden by 22,091 votes, he would have won the Electoral College outright.\n",
    "\n",
    "The fate of the country was within the margin of error, or more to the point, within the margin of voter supression. The 2020 cycle was rife with voter supression tactics including <a href=\"https://www.texastribune.org/2020/10/27/texas-voting-elections-mail-in-drop-off/\"> Texas's decision </a> to limit all counties (including Harris County, home to 4.7 million people) to a single ballot dropoff location during early voting. \n",
    "\n",
    "Voter suppression tends to affect minority populations. For example, according to the <a href=\"https://www.aclu.org/news/civil-liberties/block-the-vote-voter-suppression-in-2020/\"> ACLU </a>, 70% of people purged from voter rolls in 2018 were black. <a href=\"https://www.nber.org/papers/w26487\">One study </a> showed that in 2016, \"residents of entirely-black neighborhoods waited 29% longer to vote and were 74% more likely to spend more than 30 minutes at their polling place.\" \n",
    "\n",
    "The January 5 Senate runoff elections in Georgia were not different. The State attempted to erect barriers to voting by <a href=\"https://www.nbcnews.com/politics/2020-election/georgia-counties-cut-back-early-voting-sites-ahead-senate-runoffs-n1250307\"> closing a number of early vote polling locations </a> in the 10 most populous counties in the state."
   ]
  },
  {
   "cell_type": "markdown",
   "metadata": {},
   "source": [
    "# The Data"
   ]
  },
  {
   "cell_type": "markdown",
   "metadata": {},
   "source": [
    "The Center for New Data's Observing Democracy project, working in conjunction with <a href=\"https://fairfight.com/\">Fair Fight</a>, produced analysis demonstrating that these closures would significantly impede voting. Using novel data sources, C4ND calculated wait times at every polling location in Georgia during the early vote cycle. These data allowed us focus on the locations tagged for closure.\n",
    "\n",
    "In this notebook, we will explore that wait time data and determine if these were sites voters could afford to lose. As we will see, the answer was a resounding no."
   ]
  },
  {
   "cell_type": "markdown",
   "metadata": {},
   "source": [
    "## Read in the data"
   ]
  },
  {
   "cell_type": "code",
   "execution_count": 5,
   "metadata": {},
   "outputs": [],
   "source": [
    "import pandas as pd"
   ]
  },
  {
   "cell_type": "code",
   "execution_count": 11,
   "metadata": {},
   "outputs": [],
   "source": [
    "ga_early_vote_wait_time_df = pd.read_csv(\"../data/percent-waiting-over-thirty-minutes-ga-early-vote.csv\")"
   ]
  },
  {
   "cell_type": "markdown",
   "metadata": {},
   "source": [
    "## Preview the data"
   ]
  },
  {
   "cell_type": "code",
   "execution_count": 12,
   "metadata": {},
   "outputs": [
    {
     "data": {
      "text/html": [
       "<div>\n",
       "<style scoped>\n",
       "    .dataframe tbody tr th:only-of-type {\n",
       "        vertical-align: middle;\n",
       "    }\n",
       "\n",
       "    .dataframe tbody tr th {\n",
       "        vertical-align: top;\n",
       "    }\n",
       "\n",
       "    .dataframe thead th {\n",
       "        text-align: right;\n",
       "    }\n",
       "</style>\n",
       "<table border=\"1\" class=\"dataframe\">\n",
       "  <thead>\n",
       "    <tr style=\"text-align: right;\">\n",
       "      <th></th>\n",
       "      <th>PERCENT_WAITING_OVER_THIRTY_MINUTES</th>\n",
       "      <th>CND_POLL_UUID</th>\n",
       "      <th>NAME</th>\n",
       "      <th>STATE</th>\n",
       "      <th>COUNTY_NAME</th>\n",
       "      <th>SLATED_FOR_CLOSURE_IN_GA</th>\n",
       "    </tr>\n",
       "  </thead>\n",
       "  <tbody>\n",
       "    <tr>\n",
       "      <th>0</th>\n",
       "      <td>12.0567</td>\n",
       "      <td>31c93de830da9b0ce2d57a4cd4b49fcb</td>\n",
       "      <td>OLDE ATLANTA CLUBHOUSE</td>\n",
       "      <td>GA</td>\n",
       "      <td>FORSYTH</td>\n",
       "      <td>True</td>\n",
       "    </tr>\n",
       "    <tr>\n",
       "      <th>1</th>\n",
       "      <td>51.4493</td>\n",
       "      <td>1dbfdd8a6fc6efdfb126a08e1f504d10</td>\n",
       "      <td>REGISTRAR'S OFFICE</td>\n",
       "      <td>GA</td>\n",
       "      <td>SCREVEN</td>\n",
       "      <td>False</td>\n",
       "    </tr>\n",
       "    <tr>\n",
       "      <th>2</th>\n",
       "      <td>6.7708</td>\n",
       "      <td>8456f9b7c22db5f23468de9845a4ec77</td>\n",
       "      <td>LANIER COUNTY BOARD OF ELECTIONS</td>\n",
       "      <td>GA</td>\n",
       "      <td>LANIER</td>\n",
       "      <td>False</td>\n",
       "    </tr>\n",
       "    <tr>\n",
       "      <th>3</th>\n",
       "      <td>42.6230</td>\n",
       "      <td>8a338cf2573baf275f17e5f00fad2e72</td>\n",
       "      <td>MAIN OFFICE</td>\n",
       "      <td>GA</td>\n",
       "      <td>LIBERTY</td>\n",
       "      <td>False</td>\n",
       "    </tr>\n",
       "    <tr>\n",
       "      <th>4</th>\n",
       "      <td>38.8889</td>\n",
       "      <td>03fe8839ece4bcd8d147af8744ae25a7</td>\n",
       "      <td>AA- GEORGIA INTERNATIONAL CONVENTION  CENTER</td>\n",
       "      <td>GA</td>\n",
       "      <td>FULTON</td>\n",
       "      <td>False</td>\n",
       "    </tr>\n",
       "  </tbody>\n",
       "</table>\n",
       "</div>"
      ],
      "text/plain": [
       "   PERCENT_WAITING_OVER_THIRTY_MINUTES                     CND_POLL_UUID  \\\n",
       "0                              12.0567  31c93de830da9b0ce2d57a4cd4b49fcb   \n",
       "1                              51.4493  1dbfdd8a6fc6efdfb126a08e1f504d10   \n",
       "2                               6.7708  8456f9b7c22db5f23468de9845a4ec77   \n",
       "3                              42.6230  8a338cf2573baf275f17e5f00fad2e72   \n",
       "4                              38.8889  03fe8839ece4bcd8d147af8744ae25a7   \n",
       "\n",
       "                                           NAME STATE COUNTY_NAME  \\\n",
       "0                        OLDE ATLANTA CLUBHOUSE    GA     FORSYTH   \n",
       "1                            REGISTRAR'S OFFICE    GA     SCREVEN   \n",
       "2              LANIER COUNTY BOARD OF ELECTIONS    GA      LANIER   \n",
       "3                                   MAIN OFFICE    GA     LIBERTY   \n",
       "4  AA- GEORGIA INTERNATIONAL CONVENTION  CENTER    GA      FULTON   \n",
       "\n",
       "   SLATED_FOR_CLOSURE_IN_GA  \n",
       "0                      True  \n",
       "1                     False  \n",
       "2                     False  \n",
       "3                     False  \n",
       "4                     False  "
      ]
     },
     "execution_count": 12,
     "metadata": {},
     "output_type": "execute_result"
    }
   ],
   "source": [
    "ga_early_vote_wait_time_df.head()"
   ]
  },
  {
   "cell_type": "markdown",
   "metadata": {},
   "source": [
    "# First Pass at Detecting Voter Suppression"
   ]
  },
  {
   "cell_type": "code",
   "execution_count": 13,
   "metadata": {},
   "outputs": [
    {
     "data": {
      "text/html": [
       "<div>\n",
       "<style scoped>\n",
       "    .dataframe tbody tr th:only-of-type {\n",
       "        vertical-align: middle;\n",
       "    }\n",
       "\n",
       "    .dataframe tbody tr th {\n",
       "        vertical-align: top;\n",
       "    }\n",
       "\n",
       "    .dataframe thead th {\n",
       "        text-align: right;\n",
       "    }\n",
       "</style>\n",
       "<table border=\"1\" class=\"dataframe\">\n",
       "  <thead>\n",
       "    <tr style=\"text-align: right;\">\n",
       "      <th></th>\n",
       "      <th>SLATED_FOR_CLOSURE_IN_GA</th>\n",
       "    </tr>\n",
       "  </thead>\n",
       "  <tbody>\n",
       "    <tr>\n",
       "      <th>False</th>\n",
       "      <td>279</td>\n",
       "    </tr>\n",
       "    <tr>\n",
       "      <th>True</th>\n",
       "      <td>42</td>\n",
       "    </tr>\n",
       "  </tbody>\n",
       "</table>\n",
       "</div>"
      ],
      "text/plain": [
       "       SLATED_FOR_CLOSURE_IN_GA\n",
       "False                       279\n",
       "True                         42"
      ]
     },
     "execution_count": 13,
     "metadata": {},
     "output_type": "execute_result"
    }
   ],
   "source": [
    "pd.DataFrame(ga_early_vote_wait_time_df.SLATED_FOR_CLOSURE_IN_GA.value_counts())"
   ]
  },
  {
   "cell_type": "markdown",
   "metadata": {},
   "source": [
    "About 13% of locations were slated for closure. The State would likely argue that closing these locations would not affect the election results. It would help the State's case if they could prove that communities had an excess of voting locations. Polling locations slated for closure would have to have low wait times for the State to argue they are unecessary. "
   ]
  },
  {
   "cell_type": "code",
   "execution_count": 20,
   "metadata": {},
   "outputs": [],
   "source": [
    "import matplotlib.pyplot as plt"
   ]
  },
  {
   "cell_type": "code",
   "execution_count": 22,
   "metadata": {},
   "outputs": [
    {
     "data": {
      "image/png": "[encoded data removed]",
      "text/plain": [
       "<Figure size 432x288 with 1 Axes>"
      ]
     },
     "metadata": {
      "needs_background": "light"
     },
     "output_type": "display_data"
    }
   ],
   "source": [
    "ga_early_vote_wait_time_df.groupby('SLATED_FOR_CLOSURE_IN_GA').PERCENT_WAITING_OVER_THIRTY_MINUTES.mean().plot(kind='barh')\n",
    "plt.title('2020 Georgia Early Voting')\n",
    "plt.ylabel(\"Slated For Closure in GA Runoff\")\n",
    "plt.xlabel(\"% of Voters Waiting over 30 Minutes\")\n",
    "plt.show()"
   ]
  },
  {
   "cell_type": "markdown",
   "metadata": {},
   "source": [
    "We can already see that on average, polls that were slated for closure had a higher percentage of voters waiting over 30 minutes during the early vote period. This directly refutes the notion that these polls were not needed since. They were responsible for significant voting traffic."
   ]
  },
  {
   "cell_type": "markdown",
   "metadata": {},
   "source": [
    "# Digging Slightly Deeper"
   ]
  },
  {
   "cell_type": "markdown",
   "metadata": {},
   "source": [
    "Perhaps there are some locations slated for closure that were truly not needed. The selection may be a mixed bag. We take a look at a histogram for those locations slated for closure."
   ]
  },
  {
   "cell_type": "code",
   "execution_count": 26,
   "metadata": {},
   "outputs": [
    {
     "data": {
      "image/png": "[encoded data removed]",
      "text/plain": [
       "<Figure size 432x288 with 1 Axes>"
      ]
     },
     "metadata": {
      "needs_background": "light"
     },
     "output_type": "display_data"
    }
   ],
   "source": [
    "ga_early_vote_wait_time_df[ga_early_vote_wait_time_df.SLATED_FOR_CLOSURE_IN_GA].PERCENT_WAITING_OVER_THIRTY_MINUTES.hist()\n",
    "plt.title('Histogram for Locations Slated for Closure')\n",
    "plt.xlabel(\"% of Voters Waiting over 30 Minutes in 2020 Early Voting\")\n",
    "plt.ylabel(\"Frequency\")\n",
    "plt.show()"
   ]
  },
  {
   "cell_type": "markdown",
   "metadata": {},
   "source": [
    "It looks like there are some locations slated for closure with extremely high percentages of voters waiting over 30 minutes."
   ]
  },
  {
   "cell_type": "code",
   "execution_count": 19,
   "metadata": {},
   "outputs": [
    {
     "data": {
      "text/html": [
       "<div>\n",
       "<style scoped>\n",
       "    .dataframe tbody tr th:only-of-type {\n",
       "        vertical-align: middle;\n",
       "    }\n",
       "\n",
       "    .dataframe tbody tr th {\n",
       "        vertical-align: top;\n",
       "    }\n",
       "\n",
       "    .dataframe thead th {\n",
       "        text-align: right;\n",
       "    }\n",
       "</style>\n",
       "<table border=\"1\" class=\"dataframe\">\n",
       "  <thead>\n",
       "    <tr style=\"text-align: right;\">\n",
       "      <th></th>\n",
       "      <th>NAME</th>\n",
       "      <th>COUNTY_NAME</th>\n",
       "      <th>SLATED_FOR_CLOSURE_IN_GA</th>\n",
       "      <th>PERCENT_WAITING_OVER_THIRTY_MINUTES</th>\n",
       "    </tr>\n",
       "  </thead>\n",
       "  <tbody>\n",
       "    <tr>\n",
       "      <th>0</th>\n",
       "      <td>AA - QUALITY LIVING SERVICES SENIOR FACILITY</td>\n",
       "      <td>FULTON</td>\n",
       "      <td>False</td>\n",
       "      <td>100.0000</td>\n",
       "    </tr>\n",
       "    <tr>\n",
       "      <th>1</th>\n",
       "      <td>AA - WELCOME ALL PARK RECREATION CENTER</td>\n",
       "      <td>FULTON</td>\n",
       "      <td>False</td>\n",
       "      <td>100.0000</td>\n",
       "    </tr>\n",
       "    <tr>\n",
       "      <th>2</th>\n",
       "      <td>COURTHOUSE ANNEX</td>\n",
       "      <td>HARRIS</td>\n",
       "      <td>False</td>\n",
       "      <td>93.8931</td>\n",
       "    </tr>\n",
       "    <tr>\n",
       "      <th>3</th>\n",
       "      <td>PORTER MEMORIAL LIBRARY</td>\n",
       "      <td>NEWTON</td>\n",
       "      <td>True</td>\n",
       "      <td>93.6170</td>\n",
       "    </tr>\n",
       "    <tr>\n",
       "      <th>4</th>\n",
       "      <td>1270-ATLANTA WEST PENTECOSTAL CHURCH</td>\n",
       "      <td>DOUGLAS</td>\n",
       "      <td>True</td>\n",
       "      <td>91.7526</td>\n",
       "    </tr>\n",
       "    <tr>\n",
       "      <th>5</th>\n",
       "      <td>BOARD OF ELECTIONS</td>\n",
       "      <td>HOUSTON</td>\n",
       "      <td>False</td>\n",
       "      <td>91.1504</td>\n",
       "    </tr>\n",
       "    <tr>\n",
       "      <th>6</th>\n",
       "      <td>3 NORTHEAST - THE ART PLACE</td>\n",
       "      <td>COBB</td>\n",
       "      <td>True</td>\n",
       "      <td>84.5015</td>\n",
       "    </tr>\n",
       "    <tr>\n",
       "      <th>7</th>\n",
       "      <td>5 SOUTH CENTRAL-S. COBB REGIONAL LIBRARY</td>\n",
       "      <td>COBB</td>\n",
       "      <td>True</td>\n",
       "      <td>83.8440</td>\n",
       "    </tr>\n",
       "    <tr>\n",
       "      <th>8</th>\n",
       "      <td>EAST SIDE ADV. VOTING SITE AT CENTRAL COMPLEX</td>\n",
       "      <td>COWETA</td>\n",
       "      <td>False</td>\n",
       "      <td>83.8224</td>\n",
       "    </tr>\n",
       "    <tr>\n",
       "      <th>9</th>\n",
       "      <td>HOUSTON HEALTH PAVILION CONF CENTER</td>\n",
       "      <td>HOUSTON</td>\n",
       "      <td>False</td>\n",
       "      <td>82.8571</td>\n",
       "    </tr>\n",
       "    <tr>\n",
       "      <th>10</th>\n",
       "      <td>A11 SMYRNA- COMMUNITY CENTER</td>\n",
       "      <td>COBB</td>\n",
       "      <td>True</td>\n",
       "      <td>82.7316</td>\n",
       "    </tr>\n",
       "  </tbody>\n",
       "</table>\n",
       "</div>"
      ],
      "text/plain": [
       "                                             NAME COUNTY_NAME  \\\n",
       "0    AA - QUALITY LIVING SERVICES SENIOR FACILITY      FULTON   \n",
       "1         AA - WELCOME ALL PARK RECREATION CENTER      FULTON   \n",
       "2                                COURTHOUSE ANNEX      HARRIS   \n",
       "3                         PORTER MEMORIAL LIBRARY      NEWTON   \n",
       "4            1270-ATLANTA WEST PENTECOSTAL CHURCH     DOUGLAS   \n",
       "5                              BOARD OF ELECTIONS     HOUSTON   \n",
       "6                     3 NORTHEAST - THE ART PLACE        COBB   \n",
       "7        5 SOUTH CENTRAL-S. COBB REGIONAL LIBRARY        COBB   \n",
       "8   EAST SIDE ADV. VOTING SITE AT CENTRAL COMPLEX      COWETA   \n",
       "9             HOUSTON HEALTH PAVILION CONF CENTER     HOUSTON   \n",
       "10                   A11 SMYRNA- COMMUNITY CENTER        COBB   \n",
       "\n",
       "    SLATED_FOR_CLOSURE_IN_GA  PERCENT_WAITING_OVER_THIRTY_MINUTES  \n",
       "0                      False                             100.0000  \n",
       "1                      False                             100.0000  \n",
       "2                      False                              93.8931  \n",
       "3                       True                              93.6170  \n",
       "4                       True                              91.7526  \n",
       "5                      False                              91.1504  \n",
       "6                       True                              84.5015  \n",
       "7                       True                              83.8440  \n",
       "8                      False                              83.8224  \n",
       "9                      False                              82.8571  \n",
       "10                      True                              82.7316  "
      ]
     },
     "execution_count": 19,
     "metadata": {},
     "output_type": "execute_result"
    }
   ],
   "source": [
    "ga_early_vote_wait_time_df = ga_early_vote_wait_time_df.sort_values(by='PERCENT_WAITING_OVER_THIRTY_MINUTES',\n",
    "                                                                    ascending=False).reset_index(drop=True)\n",
    "ga_early_vote_wait_time_df[['NAME','COUNTY_NAME','SLATED_FOR_CLOSURE_IN_GA','PERCENT_WAITING_OVER_THIRTY_MINUTES']].head(11)"
   ]
  },
  {
   "cell_type": "markdown",
   "metadata": {},
   "source": [
    "Remarkably, Georgia chose to close five of the top eleven locations in terms of percentage of voters waiting over 30 minutes. These locations were needed. We supplied these and other findings to Fair Fight. Thanks to their efforts in the run up to the election, many of them were kept open."
   ]
  },
  {
   "cell_type": "markdown",
   "metadata": {},
   "source": [
    "# Signing Off!"
   ]
  },
  {
   "cell_type": "markdown",
   "metadata": {},
   "source": [
    "We hope you have enjoyed this introduction to Jupyter Notebooks and the Observing Democracy project! If you have any questions or would like to apply to volunteer with our team, please send us an email <a href=\"https://www.newdata.org/contact-us\"> here </a>."
   ]
  }
 ],
 "metadata": {
  "kernelspec": {
   "display_name": "Python 3",
   "language": "python",
   "name": "python3"
  },
  "language_info": {
   "codemirror_mode": {
    "name": "ipython",
    "version": 3
   },
   "file_extension": ".py",
   "mimetype": "text/x-python",
   "name": "python",
   "nbconvert_exporter": "python",
   "pygments_lexer": "ipython3",
   "version": "3.7.7"
  }
 },
 "nbformat": 4,
 "nbformat_minor": 4
}
